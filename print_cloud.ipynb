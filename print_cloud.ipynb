{
 "cells": [
  {
   "cell_type": "code",
   "execution_count": 2,
   "metadata": {},
   "outputs": [
    {
     "name": "stderr",
     "output_type": "stream",
     "text": [
      "Building prefix dict from the default dictionary ...\n",
      "Loading model from cache /tmp/jieba.cache\n",
      "Loading model cost 0.527 seconds.\n",
      "Prefix dict has been built successfully.\n"
     ]
    },
    {
     "name": "stdout",
     "output_type": "stream",
     "text": [
      "切割: ['孔明曰', '：', '“', '兵者', '，', '诡道', '也', '。', '”', '\\n', '关羽', '在', '长坂坡', '单刀赴会', '。', '\\n', '刘备', '倍感', '疲惫', '，', '与', '诸葛亮', '商讨对策', '。', '\\n', '曹操', '自许', '不', '与', '英雄', '为伍', '。', '\\n', '张飞', '大喝一声', '，', '吓退', '了', '敌军', '。', '\\n', '孙权', '决定', '联手', '刘备', '，', '共抗', '曹操', '。', '\\n', '赵云', '勇闯', '敌阵', '，', '救出', '幼主', '。', '\\n', '马超', '威风凛凛', '，', '征战', '四方', '。', '\\n', '董卓', '暴虐无道', '，', '引', '众将士', '反叛', '。', '\\n', '吕布', '英勇善战', '，', '无人能敌', '。', '\\n', '将军', '却说', 'xxxx']\n",
      "word 孔明曰\n",
      "word ：\n",
      "word “\n",
      "word 兵者\n",
      "word ，\n",
      "word 诡道\n",
      "word 也\n",
      "word 。\n",
      "word ”\n",
      "word \n",
      "\n",
      "word 关羽\n",
      "word 在\n",
      "word 长坂坡\n",
      "word 单刀赴会\n",
      "word 。\n",
      "word \n",
      "\n",
      "word 刘备\n",
      "word 倍感\n",
      "word 疲惫\n",
      "word ，\n",
      "word 与\n",
      "word 诸葛亮\n",
      "word 商讨对策\n",
      "word 。\n",
      "word \n",
      "\n",
      "word 曹操\n",
      "word 自许\n",
      "word 不\n",
      "word 与\n",
      "word 英雄\n",
      "word 为伍\n",
      "word 。\n",
      "word \n",
      "\n",
      "word 张飞\n",
      "word 大喝一声\n",
      "word ，\n",
      "word 吓退\n",
      "word 了\n",
      "word 敌军\n",
      "word 。\n",
      "word \n",
      "\n",
      "word 孙权\n",
      "word 决定\n",
      "word 联手\n",
      "word 刘备\n",
      "word ，\n",
      "word 共抗\n",
      "word 曹操\n",
      "word 。\n",
      "word \n",
      "\n",
      "word 赵云\n",
      "word 勇闯\n",
      "word 敌阵\n",
      "word ，\n",
      "word 救出\n",
      "word 幼主\n",
      "word 。\n",
      "word \n",
      "\n",
      "word 马超\n",
      "word 威风凛凛\n",
      "word ，\n",
      "word 征战\n",
      "word 四方\n",
      "word 。\n",
      "word \n",
      "\n",
      "word 董卓\n",
      "word 暴虐无道\n",
      "word ，\n",
      "word 引\n",
      "word 众将士\n",
      "word 反叛\n",
      "word 。\n",
      "word \n",
      "\n",
      "word 吕布\n",
      "word 英勇善战\n",
      "word ，\n",
      "word 无人能敌\n",
      "word 。\n",
      "word \n",
      "\n",
      "word 将军\n",
      "word 却说\n",
      "word xxxx\n",
      "items: [('孔明', 2), ('兵者', 1), ('诡道', 1), ('关羽', 1), ('长坂坡', 1), ('单刀赴会', 1), ('刘备', 2), ('倍感', 1), ('疲惫', 1), ('商讨对策', 1), ('曹操', 2), ('自许', 1), ('英雄', 1), ('为伍', 1), ('张飞', 1), ('大喝一声', 1), ('吓退', 1), ('敌军', 1), ('孙权', 1), ('决定', 1), ('联手', 1), ('共抗', 1), ('赵云', 1), ('勇闯', 1), ('敌阵', 1), ('救出', 1), ('幼主', 1), ('马超', 1), ('威风凛凛', 1), ('征战', 1), ('四方', 1), ('董卓', 1), ('暴虐无道', 1), ('众将士', 1), ('反叛', 1), ('吕布', 1), ('英勇善战', 1), ('无人能敌', 1), ('xxxx', 1)]\n",
      "兵者            1\n",
      "诡道            1\n",
      "关羽            1\n",
      "长坂坡           1\n"
     ]
    }
   ],
   "source": [
    "from pyecharts.globals import CurrentConfig, NotebookType\n",
    "from pyecharts import options as opts\n",
    "from pyecharts.charts import WordCloud\n",
    "from pyecharts.globals import SymbolType\n",
    "import pandas as pd\n",
    "from JIEBA import items"
   ]
  },
  {
   "cell_type": "code",
   "execution_count": 6,
   "metadata": {},
   "outputs": [
    {
     "data": {
      "text/plain": [
       "'/tops/topfun-github/python-end/render.html'"
      ]
     },
     "execution_count": 6,
     "metadata": {},
     "output_type": "execute_result"
    }
   ],
   "source": [
    "word1 = WordCloud()\n",
    "word1.add(\"\", items, shape=SymbolType.DIAMOND)\n",
    "word1.render_notebook()\n",
    "\n",
    "word1.render()"
   ]
  },
  {
   "cell_type": "code",
   "execution_count": null,
   "metadata": {},
   "outputs": [],
   "source": []
  }
 ],
 "metadata": {
  "kernelspec": {
   "display_name": "env",
   "language": "python",
   "name": "python3"
  },
  "language_info": {
   "codemirror_mode": {
    "name": "ipython",
    "version": 3
   },
   "file_extension": ".py",
   "mimetype": "text/x-python",
   "name": "python",
   "nbconvert_exporter": "python",
   "pygments_lexer": "ipython3",
   "version": "3.8.10"
  }
 },
 "nbformat": 4,
 "nbformat_minor": 2
}
